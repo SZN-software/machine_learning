{
 "cells": [
  {
   "cell_type": "markdown",
   "metadata": {},
   "source": [
    "## Boston Housing"
   ]
  },
  {
   "cell_type": "code",
   "execution_count": 10,
   "metadata": {},
   "outputs": [
    {
     "name": "stdout",
     "output_type": "stream",
     "text": [
      "506\n",
      "506\n"
     ]
    }
   ],
   "source": [
    "import warnings\n",
    "import numpy as np\n",
    "import pandas as pd\n",
    "import matplotlib.pyplot as plt\n",
    "from sklearn.datasets import load_boston\n",
    "from sklearn.linear_model import LinearRegression\n",
    "from sklearn.model_selection import train_test_split\n",
    "with warnings.catch_warnings():\n",
    "    warnings.filterwarnings('ignore')\n",
    "    X, Y = load_boston(return_X_y=True)\n",
    "print(len(X))\n",
    "print(len(Y))\n"
   ]
  },
  {
   "cell_type": "code",
   "execution_count": 8,
   "metadata": {},
   "outputs": [
    {
     "data": {
      "text/plain": [
       "{'fit_intercept': True,\n",
       " 'normalize': 'deprecated',\n",
       " 'copy_X': True,\n",
       " 'n_jobs': None,\n",
       " 'positive': False}"
      ]
     },
     "execution_count": 8,
     "metadata": {},
     "output_type": "execute_result"
    }
   ],
   "source": [
    "vars(reg)"
   ]
  },
  {
   "cell_type": "code",
   "execution_count": 12,
   "metadata": {},
   "outputs": [
    {
     "name": "stdout",
     "output_type": "stream",
     "text": [
      "X \"Train\" length: 404\n",
      "X Test length: 102\n",
      "Y Test length: 404\n",
      "Y Test length: 102\n"
     ]
    }
   ],
   "source": [
    "X_train, X_test, Y_train, Y_test = train_test_split(X,Y, train_size=0.8)\n",
    "print(\"X \\\"Train\\\" length:\", len(X_train))\n",
    "print(\"X Test length:\", len(X_test))\n",
    "\n",
    "print(\"Y Test length:\", len(Y_train))\n",
    "print(\"Y Test length:\", len(Y_test))"
   ]
  },
  {
   "cell_type": "code",
   "execution_count": 13,
   "metadata": {},
   "outputs": [
    {
     "data": {
      "text/plain": [
       "LinearRegression()"
      ]
     },
     "execution_count": 13,
     "metadata": {},
     "output_type": "execute_result"
    }
   ],
   "source": [
    "reg = LinearRegression()\n",
    "reg.fit(X_train, Y_train)"
   ]
  },
  {
   "cell_type": "code",
   "execution_count": 14,
   "metadata": {},
   "outputs": [
    {
     "data": {
      "text/plain": [
       "array([21.14617743, 15.84520498, 13.33283871, 35.22207844, 16.29271938,\n",
       "       30.03595814, 16.62463945, 24.80238198, 19.24243519, 30.58530591,\n",
       "       18.28208674, 42.77121772, 24.78872262, 18.88867542, 18.2941924 ,\n",
       "       18.45166332, 15.67541375, 40.55882404, 22.37402821, 13.80752766,\n",
       "       16.22079947, 20.01940051,  3.58098345, 28.58355793, 24.90010918,\n",
       "       28.95014343, 11.59705765, 18.05816908, 23.83541578, 19.8510284 ,\n",
       "       17.02894932, 20.34970551, 19.89777357, 29.50661206, 17.98256771,\n",
       "       21.4301451 , 12.14636528, 35.95994664, 16.47652883, 24.99750358,\n",
       "       22.04045948,  8.62622345, 28.70084942, 20.67090366, 23.38206046,\n",
       "       15.21814211, 33.46705289,  4.01194171, 28.31850099, 18.57721629,\n",
       "       19.62707945, 25.09118121, 34.11248957, 21.13965198, 13.68201498,\n",
       "       24.90128615, 34.83035504, 21.49385844, 25.96752068, 19.29897866,\n",
       "       23.42906382, 15.73097528, 12.10997667, 16.08075561, 18.37468387,\n",
       "       18.20558799, 27.64398113, 13.98245818, 17.45556789, 19.50977728,\n",
       "       32.88508821, 22.78245918, 16.32438004, 12.07428063, 18.47680769,\n",
       "       24.2945478 , 20.48604435, 19.21693325, 25.63080331, 20.84891921,\n",
       "       13.62379871, 25.55365935, 16.81060809, 28.04220076, 36.00792174,\n",
       "       32.65025862, 29.26395426, 24.93528398, 19.92892272, 33.76405721,\n",
       "       21.78495516, 26.48878064, 16.68010389, 35.759618  , 34.29482454,\n",
       "       17.28585825, 21.27476563, 33.93360522, 27.41720984, 44.65418209,\n",
       "        3.3098199 , 31.33672714])"
      ]
     },
     "execution_count": 14,
     "metadata": {},
     "output_type": "execute_result"
    }
   ],
   "source": [
    "y_predict = reg.predict(X_test)\n",
    "y_predict"
   ]
  },
  {
   "cell_type": "code",
   "execution_count": 21,
   "metadata": {},
   "outputs": [
    {
     "name": "stdout",
     "output_type": "stream",
     "text": [
      "Test sample1 [5.4970e-02 0.0000e+00 5.1900e+00 0.0000e+00 5.1500e-01 5.9850e+00\n",
      " 4.5400e+01 4.8122e+00 5.0000e+00 2.2400e+02 2.0200e+01 3.9690e+02\n",
      " 9.7400e+00]\n",
      "Test sample1 Acutal Mdev 19.0\n",
      "Predict sample1 Mdev 21.146177430930653\n"
     ]
    }
   ],
   "source": [
    "print(\"Test sample1\", X_test[0])\n",
    "print(\"Test sample1 Acutal Mdev\", Y_test[0])\n",
    "print(\"Predict sample1 Mdev\", y_predict[0])"
   ]
  },
  {
   "cell_type": "code",
   "execution_count": 18,
   "metadata": {},
   "outputs": [
    {
     "data": {
      "text/plain": [
       "array([-7.84869609e-02,  4.38031870e-02,  2.73093045e-03,  2.93861817e+00,\n",
       "       -1.79345596e+01,  3.72908337e+00,  9.06210760e-03, -1.41688033e+00,\n",
       "        2.75894076e-01, -1.22476207e-02, -9.73241061e-01,  9.34477655e-03,\n",
       "       -5.23507696e-01])"
      ]
     },
     "execution_count": 18,
     "metadata": {},
     "output_type": "execute_result"
    }
   ],
   "source": [
    "reg.coef_\n"
   ]
  },
  {
   "cell_type": "code",
   "execution_count": 19,
   "metadata": {},
   "outputs": [
    {
     "data": {
      "text/plain": [
       "36.87443360330313"
      ]
     },
     "execution_count": 19,
     "metadata": {},
     "output_type": "execute_result"
    }
   ],
   "source": [
    "reg.intercept_"
   ]
  },
  {
   "cell_type": "code",
   "execution_count": 20,
   "metadata": {},
   "outputs": [
    {
     "data": {
      "text/plain": [
       "0.7018188420342992"
      ]
     },
     "execution_count": 20,
     "metadata": {},
     "output_type": "execute_result"
    }
   ],
   "source": [
    "reg.score(X_test,Y_test)"
   ]
  }
 ],
 "metadata": {
  "kernelspec": {
   "display_name": "Python 3.9.13 ('base')",
   "language": "python",
   "name": "python3"
  },
  "language_info": {
   "codemirror_mode": {
    "name": "ipython",
    "version": 3
   },
   "file_extension": ".py",
   "mimetype": "text/x-python",
   "name": "python",
   "nbconvert_exporter": "python",
   "pygments_lexer": "ipython3",
   "version": "3.9.13"
  },
  "orig_nbformat": 4,
  "vscode": {
   "interpreter": {
    "hash": "20a9e06a1eee47c4abbed4ec8225ad91d78d9800d202b71b6b0a6e47016c6abd"
   }
  }
 },
 "nbformat": 4,
 "nbformat_minor": 2
}
